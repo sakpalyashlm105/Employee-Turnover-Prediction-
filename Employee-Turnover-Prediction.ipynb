{
 "cells": [
  {
   "cell_type": "markdown",
   "metadata": {},
   "source": [
    "### Employee-Turnover-Prediction"
   ]
  },
  {
   "cell_type": "code",
   "execution_count": 1,
   "metadata": {},
   "outputs": [],
   "source": [
    "import pandas as pd\n",
    "import numpy as np\n",
    "from sklearn.preprocessing import LabelEncoder\n",
    "from sklearn.feature_selection import RFE\n",
    "from sklearn.linear_model import LogisticRegression\n",
    "from sklearn.model_selection import train_test_split\n",
    "from sklearn import preprocessing\n",
    "from sklearn.metrics import accuracy_score\n",
    "from sklearn.ensemble import RandomForestClassifier\n",
    "from sklearn.metrics import confusion_matrix\n",
    "from sklearn.metrics import classification_report\n",
    "import seaborn as sns\n",
    "from sklearn import metrics\n",
    "import matplotlib.pyplot as plt\n",
    "from sklearn.metrics import roc_auc_score\n",
    "from sklearn.metrics import roc_curve\n",
    "import sklearn\n",
    "import warnings\n",
    "warnings.simplefilter(action=\"ignore\", category=FutureWarning)"
   ]
  },
  {
   "cell_type": "code",
   "execution_count": 2,
   "metadata": {},
   "outputs": [
    {
     "data": {
      "text/html": [
       "<div>\n",
       "<style scoped>\n",
       "    .dataframe tbody tr th:only-of-type {\n",
       "        vertical-align: middle;\n",
       "    }\n",
       "\n",
       "    .dataframe tbody tr th {\n",
       "        vertical-align: top;\n",
       "    }\n",
       "\n",
       "    .dataframe thead th {\n",
       "        text-align: right;\n",
       "    }\n",
       "</style>\n",
       "<table border=\"1\" class=\"dataframe\">\n",
       "  <thead>\n",
       "    <tr style=\"text-align: right;\">\n",
       "      <th></th>\n",
       "      <th>satisfaction_level</th>\n",
       "      <th>last_evaluation</th>\n",
       "      <th>number_project</th>\n",
       "      <th>average_montly_hours</th>\n",
       "      <th>time_spend_company</th>\n",
       "      <th>Work_accident</th>\n",
       "      <th>left</th>\n",
       "      <th>promotion_last_5years</th>\n",
       "      <th>sales</th>\n",
       "      <th>salary</th>\n",
       "    </tr>\n",
       "  </thead>\n",
       "  <tbody>\n",
       "    <tr>\n",
       "      <th>0</th>\n",
       "      <td>0.38</td>\n",
       "      <td>0.53</td>\n",
       "      <td>2</td>\n",
       "      <td>157</td>\n",
       "      <td>3</td>\n",
       "      <td>0</td>\n",
       "      <td>1</td>\n",
       "      <td>0</td>\n",
       "      <td>sales</td>\n",
       "      <td>low</td>\n",
       "    </tr>\n",
       "    <tr>\n",
       "      <th>1</th>\n",
       "      <td>0.80</td>\n",
       "      <td>0.86</td>\n",
       "      <td>5</td>\n",
       "      <td>262</td>\n",
       "      <td>6</td>\n",
       "      <td>0</td>\n",
       "      <td>1</td>\n",
       "      <td>0</td>\n",
       "      <td>sales</td>\n",
       "      <td>medium</td>\n",
       "    </tr>\n",
       "    <tr>\n",
       "      <th>2</th>\n",
       "      <td>0.11</td>\n",
       "      <td>0.88</td>\n",
       "      <td>7</td>\n",
       "      <td>272</td>\n",
       "      <td>4</td>\n",
       "      <td>0</td>\n",
       "      <td>1</td>\n",
       "      <td>0</td>\n",
       "      <td>sales</td>\n",
       "      <td>medium</td>\n",
       "    </tr>\n",
       "    <tr>\n",
       "      <th>3</th>\n",
       "      <td>0.72</td>\n",
       "      <td>0.87</td>\n",
       "      <td>5</td>\n",
       "      <td>223</td>\n",
       "      <td>5</td>\n",
       "      <td>0</td>\n",
       "      <td>1</td>\n",
       "      <td>0</td>\n",
       "      <td>sales</td>\n",
       "      <td>low</td>\n",
       "    </tr>\n",
       "    <tr>\n",
       "      <th>4</th>\n",
       "      <td>0.37</td>\n",
       "      <td>0.52</td>\n",
       "      <td>2</td>\n",
       "      <td>159</td>\n",
       "      <td>3</td>\n",
       "      <td>0</td>\n",
       "      <td>1</td>\n",
       "      <td>0</td>\n",
       "      <td>sales</td>\n",
       "      <td>low</td>\n",
       "    </tr>\n",
       "  </tbody>\n",
       "</table>\n",
       "</div>"
      ],
      "text/plain": [
       "   satisfaction_level  last_evaluation  number_project  average_montly_hours  \\\n",
       "0                0.38             0.53               2                   157   \n",
       "1                0.80             0.86               5                   262   \n",
       "2                0.11             0.88               7                   272   \n",
       "3                0.72             0.87               5                   223   \n",
       "4                0.37             0.52               2                   159   \n",
       "\n",
       "   time_spend_company  Work_accident  left  promotion_last_5years  sales  \\\n",
       "0                   3              0     1                      0  sales   \n",
       "1                   6              0     1                      0  sales   \n",
       "2                   4              0     1                      0  sales   \n",
       "3                   5              0     1                      0  sales   \n",
       "4                   3              0     1                      0  sales   \n",
       "\n",
       "   salary  \n",
       "0     low  \n",
       "1  medium  \n",
       "2  medium  \n",
       "3     low  \n",
       "4     low  "
      ]
     },
     "execution_count": 2,
     "metadata": {},
     "output_type": "execute_result"
    }
   ],
   "source": [
    "df = pd.read_csv(r\"C:/Users/Yash/Downloads/Employee.csv\")\n",
    "df.head()"
   ]
  },
  {
   "cell_type": "code",
   "execution_count": 3,
   "metadata": {},
   "outputs": [
    {
     "data": {
      "text/plain": [
       "satisfaction_level       float64\n",
       "last_evaluation          float64\n",
       "number_project             int64\n",
       "average_montly_hours       int64\n",
       "time_spend_company         int64\n",
       "Work_accident              int64\n",
       "left                       int64\n",
       "promotion_last_5years      int64\n",
       "sales                     object\n",
       "salary                    object\n",
       "dtype: object"
      ]
     },
     "execution_count": 3,
     "metadata": {},
     "output_type": "execute_result"
    }
   ],
   "source": [
    "df.dtypes"
   ]
  },
  {
   "cell_type": "code",
   "execution_count": 4,
   "metadata": {},
   "outputs": [
    {
     "data": {
      "text/html": [
       "<div>\n",
       "<style scoped>\n",
       "    .dataframe tbody tr th:only-of-type {\n",
       "        vertical-align: middle;\n",
       "    }\n",
       "\n",
       "    .dataframe tbody tr th {\n",
       "        vertical-align: top;\n",
       "    }\n",
       "\n",
       "    .dataframe thead th {\n",
       "        text-align: right;\n",
       "    }\n",
       "</style>\n",
       "<table border=\"1\" class=\"dataframe\">\n",
       "  <thead>\n",
       "    <tr style=\"text-align: right;\">\n",
       "      <th></th>\n",
       "      <th>satisfaction_level</th>\n",
       "      <th>last_evaluation</th>\n",
       "      <th>number_project</th>\n",
       "      <th>average_montly_hours</th>\n",
       "      <th>time_spend_company</th>\n",
       "      <th>Work_accident</th>\n",
       "      <th>left</th>\n",
       "      <th>promotion_last_5years</th>\n",
       "      <th>department</th>\n",
       "      <th>salary</th>\n",
       "    </tr>\n",
       "  </thead>\n",
       "  <tbody>\n",
       "    <tr>\n",
       "      <th>0</th>\n",
       "      <td>0.38</td>\n",
       "      <td>0.53</td>\n",
       "      <td>2</td>\n",
       "      <td>157</td>\n",
       "      <td>3</td>\n",
       "      <td>0</td>\n",
       "      <td>1</td>\n",
       "      <td>0</td>\n",
       "      <td>sales</td>\n",
       "      <td>low</td>\n",
       "    </tr>\n",
       "    <tr>\n",
       "      <th>1</th>\n",
       "      <td>0.80</td>\n",
       "      <td>0.86</td>\n",
       "      <td>5</td>\n",
       "      <td>262</td>\n",
       "      <td>6</td>\n",
       "      <td>0</td>\n",
       "      <td>1</td>\n",
       "      <td>0</td>\n",
       "      <td>sales</td>\n",
       "      <td>medium</td>\n",
       "    </tr>\n",
       "    <tr>\n",
       "      <th>2</th>\n",
       "      <td>0.11</td>\n",
       "      <td>0.88</td>\n",
       "      <td>7</td>\n",
       "      <td>272</td>\n",
       "      <td>4</td>\n",
       "      <td>0</td>\n",
       "      <td>1</td>\n",
       "      <td>0</td>\n",
       "      <td>sales</td>\n",
       "      <td>medium</td>\n",
       "    </tr>\n",
       "    <tr>\n",
       "      <th>3</th>\n",
       "      <td>0.72</td>\n",
       "      <td>0.87</td>\n",
       "      <td>5</td>\n",
       "      <td>223</td>\n",
       "      <td>5</td>\n",
       "      <td>0</td>\n",
       "      <td>1</td>\n",
       "      <td>0</td>\n",
       "      <td>sales</td>\n",
       "      <td>low</td>\n",
       "    </tr>\n",
       "    <tr>\n",
       "      <th>4</th>\n",
       "      <td>0.37</td>\n",
       "      <td>0.52</td>\n",
       "      <td>2</td>\n",
       "      <td>159</td>\n",
       "      <td>3</td>\n",
       "      <td>0</td>\n",
       "      <td>1</td>\n",
       "      <td>0</td>\n",
       "      <td>sales</td>\n",
       "      <td>low</td>\n",
       "    </tr>\n",
       "  </tbody>\n",
       "</table>\n",
       "</div>"
      ],
      "text/plain": [
       "   satisfaction_level  last_evaluation  number_project  average_montly_hours  \\\n",
       "0                0.38             0.53               2                   157   \n",
       "1                0.80             0.86               5                   262   \n",
       "2                0.11             0.88               7                   272   \n",
       "3                0.72             0.87               5                   223   \n",
       "4                0.37             0.52               2                   159   \n",
       "\n",
       "   time_spend_company  Work_accident  left  promotion_last_5years department  \\\n",
       "0                   3              0     1                      0      sales   \n",
       "1                   6              0     1                      0      sales   \n",
       "2                   4              0     1                      0      sales   \n",
       "3                   5              0     1                      0      sales   \n",
       "4                   3              0     1                      0      sales   \n",
       "\n",
       "   salary  \n",
       "0     low  \n",
       "1  medium  \n",
       "2  medium  \n",
       "3     low  \n",
       "4     low  "
      ]
     },
     "execution_count": 4,
     "metadata": {},
     "output_type": "execute_result"
    }
   ],
   "source": [
    "df=df.rename(columns = {'sales':'department'})\n",
    "df.head()"
   ]
  },
  {
   "cell_type": "code",
   "execution_count": 5,
   "metadata": {},
   "outputs": [
    {
     "data": {
      "text/plain": [
       "{'IT',\n",
       " 'RandD',\n",
       " 'accounting',\n",
       " 'hr',\n",
       " 'management',\n",
       " 'marketing',\n",
       " 'product_mng',\n",
       " 'sales',\n",
       " 'support',\n",
       " 'technical'}"
      ]
     },
     "execution_count": 5,
     "metadata": {},
     "output_type": "execute_result"
    }
   ],
   "source": [
    "set(df['department'])"
   ]
  },
  {
   "cell_type": "code",
   "execution_count": 6,
   "metadata": {},
   "outputs": [
    {
     "data": {
      "text/plain": [
       "array(['sales', 'accounting', 'hr', 'technical', 'support', 'management',\n",
       "       'IT', 'product_mng', 'marketing', 'RandD'], dtype=object)"
      ]
     },
     "execution_count": 6,
     "metadata": {},
     "output_type": "execute_result"
    }
   ],
   "source": [
    "df['department'].unique()"
   ]
  },
  {
   "cell_type": "code",
   "execution_count": 7,
   "metadata": {},
   "outputs": [],
   "source": [
    "df['department']=np.where(df['department'] =='support', 'technical', df['department'])\n",
    "df['department']=np.where(df['department'] =='IT', 'technical', df['department'])"
   ]
  },
  {
   "cell_type": "code",
   "execution_count": 8,
   "metadata": {},
   "outputs": [
    {
     "data": {
      "text/plain": [
       "0            sales\n",
       "1            sales\n",
       "2            sales\n",
       "3            sales\n",
       "4            sales\n",
       "           ...    \n",
       "14994    technical\n",
       "14995    technical\n",
       "14996    technical\n",
       "14997    technical\n",
       "14998    technical\n",
       "Name: department, Length: 14999, dtype: object"
      ]
     },
     "execution_count": 8,
     "metadata": {},
     "output_type": "execute_result"
    }
   ],
   "source": [
    "df['department']"
   ]
  },
  {
   "cell_type": "code",
   "execution_count": 9,
   "metadata": {},
   "outputs": [
    {
     "data": {
      "text/plain": [
       "array(['sales', 'accounting', 'hr', 'technical', 'management',\n",
       "       'product_mng', 'marketing', 'RandD'], dtype=object)"
      ]
     },
     "execution_count": 9,
     "metadata": {},
     "output_type": "execute_result"
    }
   ],
   "source": [
    "df['department'].unique()"
   ]
  },
  {
   "cell_type": "code",
   "execution_count": 10,
   "metadata": {},
   "outputs": [
    {
     "data": {
      "text/plain": [
       "Index(['satisfaction_level', 'last_evaluation', 'number_project',\n",
       "       'average_montly_hours', 'time_spend_company', 'Work_accident', 'left',\n",
       "       'promotion_last_5years', 'department', 'salary'],\n",
       "      dtype='object')"
      ]
     },
     "execution_count": 10,
     "metadata": {},
     "output_type": "execute_result"
    }
   ],
   "source": [
    "df.columns"
   ]
  },
  {
   "cell_type": "code",
   "execution_count": 11,
   "metadata": {},
   "outputs": [],
   "source": [
    "LE = LabelEncoder()"
   ]
  },
  {
   "cell_type": "code",
   "execution_count": 12,
   "metadata": {},
   "outputs": [],
   "source": [
    "LE.fit(df['department'])\n",
    "df['department'] = LE.transform(df['department'])"
   ]
  },
  {
   "cell_type": "code",
   "execution_count": 13,
   "metadata": {},
   "outputs": [
    {
     "data": {
      "text/plain": [
       "0        6\n",
       "1        6\n",
       "2        6\n",
       "3        6\n",
       "4        6\n",
       "        ..\n",
       "14994    7\n",
       "14995    7\n",
       "14996    7\n",
       "14997    7\n",
       "14998    7\n",
       "Name: department, Length: 14999, dtype: int32"
      ]
     },
     "execution_count": 13,
     "metadata": {},
     "output_type": "execute_result"
    }
   ],
   "source": [
    "df['department']"
   ]
  },
  {
   "cell_type": "code",
   "execution_count": 14,
   "metadata": {},
   "outputs": [
    {
     "data": {
      "text/plain": [
       "0        1\n",
       "1        2\n",
       "2        2\n",
       "3        1\n",
       "4        1\n",
       "        ..\n",
       "14994    1\n",
       "14995    1\n",
       "14996    1\n",
       "14997    1\n",
       "14998    1\n",
       "Name: salary, Length: 14999, dtype: int32"
      ]
     },
     "execution_count": 14,
     "metadata": {},
     "output_type": "execute_result"
    }
   ],
   "source": [
    "LE.fit(df['salary'])\n",
    "df['salary'] = LE.transform(df['salary'])\n",
    "df['salary']"
   ]
  },
  {
   "cell_type": "code",
   "execution_count": 15,
   "metadata": {},
   "outputs": [
    {
     "data": {
      "text/html": [
       "<div>\n",
       "<style scoped>\n",
       "    .dataframe tbody tr th:only-of-type {\n",
       "        vertical-align: middle;\n",
       "    }\n",
       "\n",
       "    .dataframe tbody tr th {\n",
       "        vertical-align: top;\n",
       "    }\n",
       "\n",
       "    .dataframe thead th {\n",
       "        text-align: right;\n",
       "    }\n",
       "</style>\n",
       "<table border=\"1\" class=\"dataframe\">\n",
       "  <thead>\n",
       "    <tr style=\"text-align: right;\">\n",
       "      <th></th>\n",
       "      <th>satisfaction_level</th>\n",
       "      <th>last_evaluation</th>\n",
       "      <th>number_project</th>\n",
       "      <th>average_montly_hours</th>\n",
       "      <th>time_spend_company</th>\n",
       "      <th>Work_accident</th>\n",
       "      <th>left</th>\n",
       "      <th>promotion_last_5years</th>\n",
       "      <th>department</th>\n",
       "      <th>salary</th>\n",
       "    </tr>\n",
       "  </thead>\n",
       "  <tbody>\n",
       "    <tr>\n",
       "      <th>0</th>\n",
       "      <td>0.38</td>\n",
       "      <td>0.53</td>\n",
       "      <td>2</td>\n",
       "      <td>157</td>\n",
       "      <td>3</td>\n",
       "      <td>0</td>\n",
       "      <td>1</td>\n",
       "      <td>0</td>\n",
       "      <td>6</td>\n",
       "      <td>1</td>\n",
       "    </tr>\n",
       "    <tr>\n",
       "      <th>1</th>\n",
       "      <td>0.80</td>\n",
       "      <td>0.86</td>\n",
       "      <td>5</td>\n",
       "      <td>262</td>\n",
       "      <td>6</td>\n",
       "      <td>0</td>\n",
       "      <td>1</td>\n",
       "      <td>0</td>\n",
       "      <td>6</td>\n",
       "      <td>2</td>\n",
       "    </tr>\n",
       "    <tr>\n",
       "      <th>2</th>\n",
       "      <td>0.11</td>\n",
       "      <td>0.88</td>\n",
       "      <td>7</td>\n",
       "      <td>272</td>\n",
       "      <td>4</td>\n",
       "      <td>0</td>\n",
       "      <td>1</td>\n",
       "      <td>0</td>\n",
       "      <td>6</td>\n",
       "      <td>2</td>\n",
       "    </tr>\n",
       "    <tr>\n",
       "      <th>3</th>\n",
       "      <td>0.72</td>\n",
       "      <td>0.87</td>\n",
       "      <td>5</td>\n",
       "      <td>223</td>\n",
       "      <td>5</td>\n",
       "      <td>0</td>\n",
       "      <td>1</td>\n",
       "      <td>0</td>\n",
       "      <td>6</td>\n",
       "      <td>1</td>\n",
       "    </tr>\n",
       "    <tr>\n",
       "      <th>4</th>\n",
       "      <td>0.37</td>\n",
       "      <td>0.52</td>\n",
       "      <td>2</td>\n",
       "      <td>159</td>\n",
       "      <td>3</td>\n",
       "      <td>0</td>\n",
       "      <td>1</td>\n",
       "      <td>0</td>\n",
       "      <td>6</td>\n",
       "      <td>1</td>\n",
       "    </tr>\n",
       "  </tbody>\n",
       "</table>\n",
       "</div>"
      ],
      "text/plain": [
       "   satisfaction_level  last_evaluation  number_project  average_montly_hours  \\\n",
       "0                0.38             0.53               2                   157   \n",
       "1                0.80             0.86               5                   262   \n",
       "2                0.11             0.88               7                   272   \n",
       "3                0.72             0.87               5                   223   \n",
       "4                0.37             0.52               2                   159   \n",
       "\n",
       "   time_spend_company  Work_accident  left  promotion_last_5years  department  \\\n",
       "0                   3              0     1                      0           6   \n",
       "1                   6              0     1                      0           6   \n",
       "2                   4              0     1                      0           6   \n",
       "3                   5              0     1                      0           6   \n",
       "4                   3              0     1                      0           6   \n",
       "\n",
       "   salary  \n",
       "0       1  \n",
       "1       2  \n",
       "2       2  \n",
       "3       1  \n",
       "4       1  "
      ]
     },
     "execution_count": 15,
     "metadata": {},
     "output_type": "execute_result"
    }
   ],
   "source": [
    "df.head()"
   ]
  },
  {
   "cell_type": "code",
   "execution_count": 16,
   "metadata": {},
   "outputs": [
    {
     "data": {
      "text/plain": [
       "['left']"
      ]
     },
     "execution_count": 16,
     "metadata": {},
     "output_type": "execute_result"
    }
   ],
   "source": [
    "x=df.drop(['left'],axis=1)\n",
    "y = ['left']\n",
    "y"
   ]
  },
  {
   "cell_type": "code",
   "execution_count": 17,
   "metadata": {},
   "outputs": [],
   "source": [
    "LR = LogisticRegression(max_iter=2000)"
   ]
  },
  {
   "cell_type": "code",
   "execution_count": 18,
   "metadata": {},
   "outputs": [],
   "source": [
    "df_train, df_test = train_test_split(df, test_size = 0.2)"
   ]
  },
  {
   "cell_type": "code",
   "execution_count": 19,
   "metadata": {},
   "outputs": [],
   "source": [
    "x_train = df_train.drop(['left'],axis = 1)\n",
    "x_test = df_test.drop(['left'],axis = 1)"
   ]
  },
  {
   "cell_type": "code",
   "execution_count": 20,
   "metadata": {},
   "outputs": [],
   "source": [
    "y_train = df_train['left']\n",
    "y_test = df_test['left']"
   ]
  },
  {
   "cell_type": "code",
   "execution_count": 21,
   "metadata": {},
   "outputs": [
    {
     "data": {
      "text/plain": [
       "LogisticRegression(max_iter=2000)"
      ]
     },
     "execution_count": 21,
     "metadata": {},
     "output_type": "execute_result"
    }
   ],
   "source": [
    "LR.fit(x_train,y_train)"
   ]
  },
  {
   "cell_type": "code",
   "execution_count": 22,
   "metadata": {},
   "outputs": [
    {
     "name": "stdout",
     "output_type": "stream",
     "text": [
      "Accuracy of the model using Logistic Regression is: 0.769\n"
     ]
    }
   ],
   "source": [
    "print('Accuracy of the model using Logistic Regression is: {:.3f}'.format(accuracy_score(y_test, LR.predict(x_test)))) #Accuracy score"
   ]
  },
  {
   "cell_type": "code",
   "execution_count": 23,
   "metadata": {},
   "outputs": [
    {
     "name": "stdout",
     "output_type": "stream",
     "text": [
      "              precision    recall  f1-score   support\n",
      "\n",
      "           0       0.80      0.93      0.86      2288\n",
      "           1       0.53      0.25      0.34       712\n",
      "\n",
      "    accuracy                           0.77      3000\n",
      "   macro avg       0.66      0.59      0.60      3000\n",
      "weighted avg       0.73      0.77      0.74      3000\n",
      "\n"
     ]
    }
   ],
   "source": [
    "print(classification_report(y_test, LR.predict(x_test)))"
   ]
  },
  {
   "cell_type": "code",
   "execution_count": 24,
   "metadata": {},
   "outputs": [
    {
     "data": {
      "text/plain": [
       "Text(0.5, 1.0, 'Logistic Regression')"
      ]
     },
     "execution_count": 24,
     "metadata": {},
     "output_type": "execute_result"
    },
    {
     "data": {
      "image/png": "[encoded data removed]",
      "text/plain": [
       "<Figure size 432x288 with 2 Axes>"
      ]
     },
     "metadata": {
      "needs_background": "light"
     },
     "output_type": "display_data"
    }
   ],
   "source": [
    "lr_y_pred = LR.predict(x_test)\n",
    "lr_cm = metrics.confusion_matrix(lr_y_pred, y_test, [1,0])\n",
    "sns.heatmap(lr_cm, annot=True, fmt='.2f',xticklabels = [\"Left\", \"Stayed\"] , yticklabels = [\"Left\", \"Stayed\"] )\n",
    "plt.ylabel('True Numbers')\n",
    "plt.xlabel('Predicted Numbers')\n",
    "plt.title('Logistic Regression')"
   ]
  },
  {
   "cell_type": "markdown",
   "metadata": {},
   "source": [
    "## Using Random Forest"
   ]
  },
  {
   "cell_type": "code",
   "execution_count": 25,
   "metadata": {},
   "outputs": [
    {
     "data": {
      "text/plain": [
       "RandomForestClassifier()"
      ]
     },
     "execution_count": 25,
     "metadata": {},
     "output_type": "execute_result"
    }
   ],
   "source": [
    "rfc = RandomForestClassifier()\n",
    "rfc.fit(x_train, y_train)\n"
   ]
  },
  {
   "cell_type": "code",
   "execution_count": 26,
   "metadata": {},
   "outputs": [
    {
     "name": "stdout",
     "output_type": "stream",
     "text": [
      "Accuracy of the model using Random Forest : 0.992\n"
     ]
    }
   ],
   "source": [
    "print('Accuracy of the model using Random Forest : {:.3f}'.format(accuracy_score(y_test, rfc.predict(x_test))))"
   ]
  },
  {
   "cell_type": "code",
   "execution_count": 27,
   "metadata": {},
   "outputs": [
    {
     "name": "stdout",
     "output_type": "stream",
     "text": [
      "              precision    recall  f1-score   support\n",
      "\n",
      "           0       0.99      1.00      0.99      2288\n",
      "           1       1.00      0.97      0.98       712\n",
      "\n",
      "    accuracy                           0.99      3000\n",
      "   macro avg       0.99      0.98      0.99      3000\n",
      "weighted avg       0.99      0.99      0.99      3000\n",
      "\n"
     ]
    }
   ],
   "source": [
    "print(classification_report(y_test, rfc.predict(x_test)))"
   ]
  },
  {
   "cell_type": "code",
   "execution_count": 28,
   "metadata": {},
   "outputs": [],
   "source": [
    "y_pred=rfc.predict(x_test)"
   ]
  },
  {
   "cell_type": "code",
   "execution_count": 29,
   "metadata": {},
   "outputs": [],
   "source": [
    "cm = metrics.confusion_matrix(y_pred, y_test, [1,0])"
   ]
  },
  {
   "cell_type": "code",
   "execution_count": 30,
   "metadata": {},
   "outputs": [
    {
     "data": {
      "text/plain": [
       "Text(0.5, 1.0, 'Random Forest')"
      ]
     },
     "execution_count": 30,
     "metadata": {},
     "output_type": "execute_result"
    },
    {
     "data": {
      "image/png": "[encoded data removed]",
      "text/plain": [
       "<Figure size 432x288 with 2 Axes>"
      ]
     },
     "metadata": {
      "needs_background": "light"
     },
     "output_type": "display_data"
    }
   ],
   "source": [
    "sns.heatmap(cm, annot=True, fmt='.2f',xticklabels = [\"Left\", \"Stayed\"] , yticklabels = [\"Left\", \"Stayed\"] )\n",
    "plt.ylabel('True Numbers')\n",
    "plt.xlabel('Predicted Numbers')\n",
    "plt.title('Random Forest')"
   ]
  },
  {
   "cell_type": "code",
   "execution_count": 31,
   "metadata": {},
   "outputs": [],
   "source": [
    "lr_roc_auc = roc_auc_score(y_test, LR.predict(x_test)) #roc curve using logistic regression\n",
    "fpr, tpr, thresholds = roc_curve(y_test, LR.predict_proba(x_test)[:,1])"
   ]
  },
  {
   "cell_type": "code",
   "execution_count": 32,
   "metadata": {},
   "outputs": [
    {
     "data": {
      "text/plain": [
       "(array([0.        , 0.        , 0.00917832, 0.00917832, 0.00961538,\n",
       "        0.00961538, 0.01005245, 0.01005245, 0.01048951, 0.01048951,\n",
       "        0.0118007 , 0.0118007 , 0.01267483, 0.01267483, 0.01354895,\n",
       "        0.01354895, 0.01398601, 0.01398601, 0.01398601, 0.01442308,\n",
       "        0.01442308, 0.01486014, 0.01486014, 0.0152972 , 0.0152972 ,\n",
       "        0.01617133, 0.01617133, 0.01704545, 0.01704545, 0.01835664,\n",
       "        0.01835664, 0.01879371, 0.01879371, 0.01879371, 0.01879371,\n",
       "        0.01966783, 0.01966783, 0.0201049 , 0.0201049 , 0.0201049 ,\n",
       "        0.02097902, 0.02097902, 0.02141608, 0.02141608, 0.02141608,\n",
       "        0.02185315, 0.02185315, 0.02185315, 0.02185315, 0.02185315,\n",
       "        0.02185315, 0.02229021, 0.02229021, 0.02272727, 0.02272727,\n",
       "        0.02316434, 0.02316434, 0.0236014 , 0.0236014 , 0.0236014 ,\n",
       "        0.0236014 , 0.02447552, 0.02447552, 0.02491259, 0.02491259,\n",
       "        0.02534965, 0.02534965, 0.02578671, 0.02578671, 0.02666084,\n",
       "        0.02666084, 0.02666084, 0.02753497, 0.02753497, 0.02753497,\n",
       "        0.02753497, 0.02797203, 0.02797203, 0.02840909, 0.02840909,\n",
       "        0.02884615, 0.02884615, 0.02928322, 0.02928322, 0.03103147,\n",
       "        0.03103147, 0.03234266, 0.03234266, 0.03277972, 0.03277972,\n",
       "        0.03496503, 0.03496503, 0.0354021 , 0.0354021 , 0.03671329,\n",
       "        0.03671329, 0.03671329, 0.03758741, 0.03758741, 0.03802448,\n",
       "        0.03802448, 0.03802448, 0.0388986 , 0.0388986 , 0.03977273,\n",
       "        0.03977273, 0.04020979, 0.04020979, 0.04064685, 0.04064685,\n",
       "        0.04195804, 0.04195804, 0.04195804, 0.0423951 , 0.0423951 ,\n",
       "        0.04370629, 0.04370629, 0.04370629, 0.04414336, 0.04414336,\n",
       "        0.04458042, 0.04458042, 0.04545455, 0.04545455, 0.04589161,\n",
       "        0.04589161, 0.04632867, 0.04632867, 0.0472028 , 0.0472028 ,\n",
       "        0.04763986, 0.04763986, 0.04807692, 0.04807692, 0.04851399,\n",
       "        0.04851399, 0.04895105, 0.04895105, 0.05113636, 0.05113636,\n",
       "        0.05157343, 0.05157343, 0.0541958 , 0.0541958 , 0.05812937,\n",
       "        0.05812937, 0.05944056, 0.05944056, 0.06075175, 0.06075175,\n",
       "        0.06293706, 0.06293706, 0.06337413, 0.06337413, 0.06861888,\n",
       "        0.06949301, 0.06949301, 0.0708042 , 0.0708042 , 0.07167832,\n",
       "        0.07255245, 0.0743007 , 0.0743007 , 0.07648601, 0.07648601,\n",
       "        0.07648601, 0.07867133, 0.07867133, 0.07910839, 0.07910839,\n",
       "        0.07998252, 0.07998252, 0.08085664, 0.08085664, 0.0826049 ,\n",
       "        0.0826049 , 0.0826049 , 0.0826049 , 0.08347902, 0.08347902,\n",
       "        0.08435315, 0.08435315, 0.08435315, 0.08479021, 0.08479021,\n",
       "        0.08479021, 0.08479021, 0.08522727, 0.08522727, 0.0861014 ,\n",
       "        0.0861014 , 0.08784965, 0.08784965, 0.08784965, 0.08872378,\n",
       "        0.08872378, 0.08916084, 0.08916084, 0.08916084, 0.09003497,\n",
       "        0.09003497, 0.09047203, 0.09047203, 0.09047203, 0.09090909,\n",
       "        0.09090909, 0.09134615, 0.09134615, 0.09178322, 0.09178322,\n",
       "        0.09222028, 0.09222028, 0.09265734, 0.09265734, 0.09309441,\n",
       "        0.09309441, 0.09353147, 0.09353147, 0.09353147, 0.09440559,\n",
       "        0.09440559, 0.09484266, 0.09484266, 0.09571678, 0.09571678,\n",
       "        0.09659091, 0.09702797, 0.09702797, 0.09746503, 0.09746503,\n",
       "        0.09877622, 0.09877622, 0.09921329, 0.09921329, 0.10052448,\n",
       "        0.10052448, 0.10183566, 0.10183566, 0.10227273, 0.10227273,\n",
       "        0.10227273, 0.10270979, 0.10270979, 0.10270979, 0.10270979,\n",
       "        0.10358392, 0.10358392, 0.10445804, 0.10445804, 0.1048951 ,\n",
       "        0.1048951 , 0.10533217, 0.10533217, 0.10533217, 0.10576923,\n",
       "        0.10576923, 0.10620629, 0.10620629, 0.10664336, 0.10664336,\n",
       "        0.10751748, 0.10751748, 0.10751748, 0.10795455, 0.10795455,\n",
       "        0.10882867, 0.10882867, 0.1097028 , 0.1097028 , 0.11057692,\n",
       "        0.11101399, 0.11101399, 0.11188811, 0.11188811, 0.11188811,\n",
       "        0.11276224, 0.11276224, 0.11276224, 0.11363636, 0.11451049,\n",
       "        0.11451049, 0.1166958 , 0.1166958 , 0.11713287, 0.11713287,\n",
       "        0.11713287, 0.11756993, 0.11756993, 0.11844406, 0.11844406,\n",
       "        0.11888112, 0.11888112, 0.11975524, 0.11975524, 0.12019231,\n",
       "        0.12019231, 0.12106643, 0.12106643, 0.12106643, 0.12194056,\n",
       "        0.12194056, 0.12237762, 0.12237762, 0.12237762, 0.12237762,\n",
       "        0.12281469, 0.12281469, 0.12325175, 0.12325175, 0.12368881,\n",
       "        0.12368881, 0.12456294, 0.12456294, 0.12587413, 0.12587413,\n",
       "        0.12631119, 0.12631119, 0.12631119, 0.12718531, 0.12718531,\n",
       "        0.12762238, 0.12762238, 0.12762238, 0.12762238, 0.12805944,\n",
       "        0.12805944, 0.12937063, 0.12937063, 0.12937063, 0.12937063,\n",
       "        0.13024476, 0.13024476, 0.13111888, 0.13111888, 0.13155594,\n",
       "        0.13243007, 0.13286713, 0.13286713, 0.1333042 , 0.1333042 ,\n",
       "        0.1333042 , 0.1333042 , 0.13374126, 0.13374126, 0.13417832,\n",
       "        0.13417832, 0.13548951, 0.13548951, 0.13548951, 0.13548951,\n",
       "        0.13636364, 0.13636364, 0.13986014, 0.13986014, 0.13986014,\n",
       "        0.14073427, 0.14073427, 0.1451049 , 0.1451049 , 0.14554196,\n",
       "        0.14554196, 0.14641608, 0.14641608, 0.14772727, 0.14772727,\n",
       "        0.14816434, 0.14816434, 0.1486014 , 0.1486014 , 0.14991259,\n",
       "        0.14991259, 0.15034965, 0.15034965, 0.15078671, 0.15078671,\n",
       "        0.15122378, 0.15122378, 0.15166084, 0.15253497, 0.15253497,\n",
       "        0.15428322, 0.15428322, 0.15428322, 0.15428322, 0.15559441,\n",
       "        0.15559441, 0.15646853, 0.15646853, 0.15734266, 0.15734266,\n",
       "        0.15996503, 0.15996503, 0.15996503, 0.16258741, 0.16258741,\n",
       "        0.16302448, 0.16302448, 0.1638986 , 0.1638986 , 0.16433566,\n",
       "        0.16433566, 0.16433566, 0.16477273, 0.16477273, 0.16520979,\n",
       "        0.16520979, 0.16608392, 0.16608392, 0.16695804, 0.16695804,\n",
       "        0.16870629, 0.16870629, 0.17482517, 0.17482517, 0.17526224,\n",
       "        0.17526224, 0.18181818, 0.18181818, 0.18356643, 0.18356643,\n",
       "        0.19012238, 0.19012238, 0.19055944, 0.19055944, 0.19274476,\n",
       "        0.19274476, 0.1993007 , 0.1993007 , 0.20017483, 0.20017483,\n",
       "        0.20323427, 0.20323427, 0.20716783, 0.20716783, 0.21328671,\n",
       "        0.21328671, 0.21372378, 0.2145979 , 0.21809441, 0.21809441,\n",
       "        0.21853147, 0.21853147, 0.22159091, 0.22159091, 0.22333916,\n",
       "        0.22333916, 0.22377622, 0.22377622, 0.22552448, 0.22552448,\n",
       "        0.2298951 , 0.2298951 , 0.23426573, 0.23513986, 0.23776224,\n",
       "        0.23776224, 0.23907343, 0.23907343, 0.24213287, 0.24213287,\n",
       "        0.24256993, 0.24256993, 0.25524476, 0.25524476, 0.25655594,\n",
       "        0.25655594, 0.25961538, 0.25961538, 0.26617133, 0.26617133,\n",
       "        0.26704545, 0.26704545, 0.2736014 , 0.27447552, 0.28059441,\n",
       "        0.28059441, 0.2854021 , 0.2854021 , 0.28627622, 0.28802448,\n",
       "        0.28802448, 0.29195804, 0.29195804, 0.29283217, 0.29283217,\n",
       "        0.29414336, 0.29414336, 0.29501748, 0.29589161, 0.30550699,\n",
       "        0.30550699, 0.31118881, 0.31118881, 0.32167832, 0.32167832,\n",
       "        0.32255245, 0.32648601, 0.32648601, 0.32692308, 0.32692308,\n",
       "        0.3277972 , 0.3277972 , 0.33129371, 0.33129371, 0.33173077,\n",
       "        0.33173077, 0.33216783, 0.33304196, 0.33391608, 0.33391608,\n",
       "        0.33479021, 0.33522727, 0.33522727, 0.34527972, 0.34527972,\n",
       "        0.35008741, 0.35008741, 0.3513986 , 0.3513986 , 0.35183566,\n",
       "        0.35183566, 0.35445804, 0.35445804, 0.35576923, 0.35576923,\n",
       "        0.35882867, 0.35882867, 0.36188811, 0.36188811, 0.36276224,\n",
       "        0.36276224, 0.36407343, 0.36407343, 0.36538462, 0.36625874,\n",
       "        0.36756993, 0.36756993, 0.36800699, 0.36888112, 0.36888112,\n",
       "        0.36975524, 0.37062937, 0.37062937, 0.37106643, 0.37106643,\n",
       "        0.37106643, 0.37106643, 0.37456294, 0.37456294, 0.37718531,\n",
       "        0.37805944, 0.37980769, 0.37980769, 0.37980769, 0.38111888,\n",
       "        0.38111888, 0.38155594, 0.38155594, 0.38243007, 0.3833042 ,\n",
       "        0.38417832, 0.38417832, 0.38811189, 0.38811189, 0.39117133,\n",
       "        0.39117133, 0.39248252, 0.39248252, 0.39423077, 0.39423077,\n",
       "        0.39466783, 0.39466783, 0.40428322, 0.40428322, 0.40777972,\n",
       "        0.40777972, 0.41127622, 0.41127622, 0.41258741, 0.41258741,\n",
       "        0.41302448, 0.41302448, 0.41870629, 0.41870629, 0.41958042,\n",
       "        0.42001748, 0.42001748, 0.42263986, 0.42263986, 0.42613636,\n",
       "        0.42613636, 0.42788462, 0.42788462, 0.42963287, 0.42963287,\n",
       "        0.43968531, 0.43968531, 0.44230769, 0.44230769, 0.44449301,\n",
       "        0.44449301, 0.4458042 , 0.4458042 , 0.44711538, 0.44711538,\n",
       "        0.45323427, 0.45323427, 0.45410839, 0.45410839, 0.45716783,\n",
       "        0.45716783, 0.45891608, 0.45891608, 0.45935315, 0.45935315,\n",
       "        0.4611014 , 0.4611014 , 0.46241259, 0.46241259, 0.4645979 ,\n",
       "        0.4645979 , 0.46503497, 0.46503497, 0.46765734, 0.46853147,\n",
       "        0.47027972, 0.47027972, 0.47071678, 0.47071678, 0.47159091,\n",
       "        0.47596154, 0.47596154, 0.47770979, 0.47858392, 0.47945804,\n",
       "        0.47945804, 0.48076923, 0.48076923, 0.48339161, 0.48339161,\n",
       "        0.48426573, 0.4847028 , 0.4847028 , 0.48601399, 0.48601399,\n",
       "        0.48776224, 0.48776224, 0.48907343, 0.48907343, 0.49125874,\n",
       "        0.49125874, 0.49475524, 0.49475524, 0.5034965 , 0.5034965 ,\n",
       "        0.50524476, 0.50524476, 0.50874126, 0.50874126, 0.50874126,\n",
       "        0.51136364, 0.51136364, 0.5152972 , 0.5152972 , 0.51660839,\n",
       "        0.51660839, 0.51748252, 0.51748252, 0.51835664, 0.51835664,\n",
       "        0.51835664, 0.51835664, 0.5201049 , 0.5201049 , 0.52491259,\n",
       "        0.52491259, 0.52578671, 0.52928322, 0.52928322, 0.52972028,\n",
       "        0.52972028, 0.53015734, 0.53015734, 0.5354021 , 0.5354021 ,\n",
       "        0.53671329, 0.53671329, 0.53758741, 0.53758741, 0.53802448,\n",
       "        0.53802448, 0.54326923, 0.54326923, 0.54370629, 0.54370629,\n",
       "        0.54458042, 0.54458042, 0.54501748, 0.54501748, 0.54632867,\n",
       "        0.54632867, 0.54807692, 0.54807692, 0.55244755, 0.55244755,\n",
       "        0.55288462, 0.55288462, 0.55463287, 0.55463287, 0.55638112,\n",
       "        0.55638112, 0.55725524, 0.56075175, 0.56075175, 0.5625    ,\n",
       "        0.5625    , 0.56468531, 0.56468531, 0.56555944, 0.56555944,\n",
       "        0.56905594, 0.56905594, 0.57167832, 0.57167832, 0.57255245,\n",
       "        0.57255245, 0.57517483, 0.57517483, 0.57561189, 0.57561189,\n",
       "        0.5777972 , 0.5777972 , 0.57910839, 0.57910839, 0.57910839,\n",
       "        0.58872378, 0.58872378, 0.59047203, 0.59047203, 0.59178322,\n",
       "        0.59178322, 0.59396853, 0.59396853, 0.59484266, 0.59484266,\n",
       "        0.59527972, 0.59527972, 0.6013986 , 0.6013986 , 0.60402098,\n",
       "        0.60402098, 0.61057692, 0.61057692, 0.61145105, 0.62456294,\n",
       "        0.62456294, 0.6284965 , 0.6284965 , 0.62980769, 0.62980769,\n",
       "        0.63068182, 0.63068182, 0.63199301, 0.63199301, 0.63374126,\n",
       "        0.63374126, 0.63898601, 0.63898601, 0.6402972 , 0.64117133,\n",
       "        0.64291958, 0.64291958, 0.64466783, 0.64466783, 0.65253497,\n",
       "        0.65340909, 0.66127622, 0.66127622, 0.66258741, 0.66258741,\n",
       "        0.66433566, 0.66520979, 0.66520979, 0.67045455, 0.67132867,\n",
       "        0.67526224, 0.67526224, 0.68225524, 0.68225524, 0.71765734,\n",
       "        0.71853147, 0.72465035, 0.72552448, 0.72596154, 0.72683566,\n",
       "        0.74038462, 0.74125874, 0.74125874, 0.74868881, 0.74956294,\n",
       "        0.75699301, 0.75699301, 0.7618007 , 0.7618007 , 0.77578671,\n",
       "        0.77666084, 0.77753497, 0.77840909, 0.78846154, 0.78846154,\n",
       "        0.79851399, 0.79851399, 0.81687063, 0.81774476, 0.83697552,\n",
       "        0.83697552, 0.87019231, 0.87019231, 0.88155594, 0.88243007,\n",
       "        0.88286713, 0.88374126, 0.89291958, 0.89291958, 0.9020979 ,\n",
       "        0.9020979 , 0.92351399, 0.92438811, 0.92657343, 0.92744755,\n",
       "        0.93487762, 0.93575175, 0.94886364, 0.94973776, 0.9527972 ,\n",
       "        0.9527972 , 0.96284965, 0.96372378, 0.97902098, 0.9798951 ,\n",
       "        0.99082168, 0.99082168, 1.        ]),\n",
       " array([0.        , 0.00140449, 0.00140449, 0.00280899, 0.00280899,\n",
       "        0.00421348, 0.00421348, 0.00561798, 0.00561798, 0.00842697,\n",
       "        0.00842697, 0.01544944, 0.01544944, 0.01825843, 0.01825843,\n",
       "        0.02106742, 0.02106742, 0.0238764 , 0.0252809 , 0.0252809 ,\n",
       "        0.02668539, 0.02668539, 0.02808989, 0.02808989, 0.03792135,\n",
       "        0.03792135, 0.03932584, 0.03932584, 0.04213483, 0.04213483,\n",
       "        0.04353933, 0.04353933, 0.04775281, 0.05196629, 0.06179775,\n",
       "        0.06179775, 0.06320225, 0.06320225, 0.06601124, 0.06741573,\n",
       "        0.06741573, 0.06882022, 0.06882022, 0.07162921, 0.0758427 ,\n",
       "        0.0758427 , 0.07865169, 0.08146067, 0.08286517, 0.08567416,\n",
       "        0.09129213, 0.09129213, 0.09550562, 0.09550562, 0.09691011,\n",
       "        0.09691011, 0.0997191 , 0.0997191 , 0.10252809, 0.11095506,\n",
       "        0.11376404, 0.11376404, 0.12219101, 0.12219101, 0.125     ,\n",
       "        0.125     , 0.12780899, 0.12780899, 0.13061798, 0.13061798,\n",
       "        0.13342697, 0.14044944, 0.14044944, 0.14185393, 0.14466292,\n",
       "        0.1502809 , 0.1502809 , 0.15308989, 0.15308989, 0.15589888,\n",
       "        0.15589888, 0.15730337, 0.15730337, 0.16151685, 0.16151685,\n",
       "        0.16432584, 0.16432584, 0.16713483, 0.16713483, 0.16853933,\n",
       "        0.16853933, 0.16994382, 0.16994382, 0.17134831, 0.17134831,\n",
       "        0.1741573 , 0.17696629, 0.17696629, 0.17837079, 0.17837079,\n",
       "        0.17977528, 0.18398876, 0.18398876, 0.18539326, 0.18539326,\n",
       "        0.19101124, 0.19101124, 0.19241573, 0.19241573, 0.19382022,\n",
       "        0.19382022, 0.19662921, 0.19803371, 0.19803371, 0.1994382 ,\n",
       "        0.1994382 , 0.20365169, 0.20926966, 0.20926966, 0.21629213,\n",
       "        0.21629213, 0.21769663, 0.21769663, 0.22050562, 0.22050562,\n",
       "        0.22331461, 0.22331461, 0.2247191 , 0.2247191 , 0.2261236 ,\n",
       "        0.2261236 , 0.22752809, 0.22752809, 0.22893258, 0.22893258,\n",
       "        0.23033708, 0.23033708, 0.23174157, 0.23174157, 0.23314607,\n",
       "        0.23314607, 0.23735955, 0.23735955, 0.23876404, 0.23876404,\n",
       "        0.24016854, 0.24016854, 0.24157303, 0.24157303, 0.24297753,\n",
       "        0.24297753, 0.24438202, 0.24438202, 0.24578652, 0.24578652,\n",
       "        0.24578652, 0.24859551, 0.24859551, 0.25      , 0.25      ,\n",
       "        0.25      , 0.25      , 0.25140449, 0.25140449, 0.25421348,\n",
       "        0.25561798, 0.25561798, 0.25842697, 0.25842697, 0.26404494,\n",
       "        0.26404494, 0.26825843, 0.26825843, 0.27106742, 0.27106742,\n",
       "        0.27247191, 0.2752809 , 0.27808989, 0.27808989, 0.28089888,\n",
       "        0.28089888, 0.28370787, 0.29213483, 0.29213483, 0.29353933,\n",
       "        0.29634831, 0.30196629, 0.30196629, 0.30337079, 0.30337079,\n",
       "        0.30617978, 0.30617978, 0.30898876, 0.31320225, 0.31320225,\n",
       "        0.31460674, 0.31460674, 0.32022472, 0.32303371, 0.32303371,\n",
       "        0.33146067, 0.33146067, 0.33426966, 0.33567416, 0.33567416,\n",
       "        0.3511236 , 0.3511236 , 0.35393258, 0.35393258, 0.35533708,\n",
       "        0.35533708, 0.36376404, 0.36376404, 0.36516854, 0.36516854,\n",
       "        0.37640449, 0.37640449, 0.37780899, 0.38061798, 0.38061798,\n",
       "        0.38202247, 0.38202247, 0.39044944, 0.39044944, 0.39325843,\n",
       "        0.39325843, 0.39325843, 0.39466292, 0.39466292, 0.39747191,\n",
       "        0.39747191, 0.40870787, 0.40870787, 0.41713483, 0.41713483,\n",
       "        0.41994382, 0.41994382, 0.42134831, 0.42134831, 0.4241573 ,\n",
       "        0.42837079, 0.42837079, 0.43117978, 0.43398876, 0.43679775,\n",
       "        0.43679775, 0.44101124, 0.44101124, 0.44241573, 0.44241573,\n",
       "        0.44662921, 0.44662921, 0.4508427 , 0.45926966, 0.45926966,\n",
       "        0.46067416, 0.46067416, 0.46348315, 0.46348315, 0.46629213,\n",
       "        0.46629213, 0.47331461, 0.4761236 , 0.4761236 , 0.47752809,\n",
       "        0.47752809, 0.47893258, 0.47893258, 0.48174157, 0.48174157,\n",
       "        0.48174157, 0.48314607, 0.48314607, 0.48455056, 0.48735955,\n",
       "        0.48735955, 0.49016854, 0.49719101, 0.49719101, 0.49719101,\n",
       "        0.49859551, 0.49859551, 0.50140449, 0.50140449, 0.50421348,\n",
       "        0.50842697, 0.50842697, 0.50983146, 0.50983146, 0.51123596,\n",
       "        0.51123596, 0.51544944, 0.51544944, 0.51685393, 0.51685393,\n",
       "        0.51966292, 0.51966292, 0.52106742, 0.52668539, 0.52668539,\n",
       "        0.53089888, 0.53089888, 0.53370787, 0.53651685, 0.54073034,\n",
       "        0.54073034, 0.54353933, 0.54353933, 0.54634831, 0.54634831,\n",
       "        0.54775281, 0.54775281, 0.5505618 , 0.5505618 , 0.55617978,\n",
       "        0.55617978, 0.55758427, 0.56039326, 0.56039326, 0.56601124,\n",
       "        0.56601124, 0.56882022, 0.57162921, 0.57303371, 0.57303371,\n",
       "        0.5744382 , 0.5744382 , 0.5758427 , 0.57865169, 0.58286517,\n",
       "        0.58286517, 0.58848315, 0.58848315, 0.59129213, 0.59129213,\n",
       "        0.59129213, 0.59129213, 0.59410112, 0.59410112, 0.59550562,\n",
       "        0.59831461, 0.6011236 , 0.6011236 , 0.60393258, 0.60393258,\n",
       "        0.60814607, 0.60814607, 0.60955056, 0.61235955, 0.61376404,\n",
       "        0.61376404, 0.61516854, 0.61516854, 0.61797753, 0.61938202,\n",
       "        0.61938202, 0.62078652, 0.62078652, 0.62219101, 0.62219101,\n",
       "        0.62359551, 0.62359551, 0.625     , 0.625     , 0.62640449,\n",
       "        0.62640449, 0.62780899, 0.62780899, 0.62921348, 0.62921348,\n",
       "        0.63061798, 0.63061798, 0.63202247, 0.63202247, 0.63342697,\n",
       "        0.63342697, 0.63483146, 0.63483146, 0.63483146, 0.63623596,\n",
       "        0.63623596, 0.64044944, 0.64325843, 0.64606742, 0.64606742,\n",
       "        0.64747191, 0.64747191, 0.6502809 , 0.6502809 , 0.65308989,\n",
       "        0.65308989, 0.65449438, 0.65730337, 0.65730337, 0.65870787,\n",
       "        0.65870787, 0.66011236, 0.66011236, 0.66292135, 0.66292135,\n",
       "        0.66432584, 0.66853933, 0.66853933, 0.66994382, 0.66994382,\n",
       "        0.67134831, 0.67134831, 0.6741573 , 0.6741573 , 0.67696629,\n",
       "        0.67696629, 0.67837079, 0.67837079, 0.68117978, 0.68117978,\n",
       "        0.68398876, 0.68398876, 0.68539326, 0.68539326, 0.68820225,\n",
       "        0.68820225, 0.68960674, 0.68960674, 0.69241573, 0.69241573,\n",
       "        0.69382022, 0.69382022, 0.69522472, 0.69522472, 0.69662921,\n",
       "        0.69662921, 0.69803371, 0.69803371, 0.6994382 , 0.6994382 ,\n",
       "        0.7008427 , 0.7008427 , 0.7008427 , 0.7008427 , 0.70365169,\n",
       "        0.70365169, 0.70505618, 0.70505618, 0.70646067, 0.70646067,\n",
       "        0.70786517, 0.70786517, 0.71067416, 0.71067416, 0.71207865,\n",
       "        0.71207865, 0.71348315, 0.71348315, 0.71348315, 0.71348315,\n",
       "        0.71488764, 0.71488764, 0.71629213, 0.71629213, 0.71769663,\n",
       "        0.71769663, 0.71910112, 0.71910112, 0.72050562, 0.72050562,\n",
       "        0.72191011, 0.72191011, 0.7247191 , 0.7247191 , 0.7261236 ,\n",
       "        0.7261236 , 0.72752809, 0.72752809, 0.72752809, 0.72752809,\n",
       "        0.72893258, 0.72893258, 0.73033708, 0.73033708, 0.73033708,\n",
       "        0.73174157, 0.73174157, 0.73314607, 0.73314607, 0.73455056,\n",
       "        0.73455056, 0.73595506, 0.73595506, 0.73595506, 0.73595506,\n",
       "        0.73735955, 0.73735955, 0.73876404, 0.73876404, 0.74016854,\n",
       "        0.74016854, 0.74016854, 0.74157303, 0.74157303, 0.74297753,\n",
       "        0.74297753, 0.74438202, 0.74438202, 0.74578652, 0.74578652,\n",
       "        0.74719101, 0.74719101, 0.74719101, 0.74719101, 0.75      ,\n",
       "        0.75      , 0.75      , 0.75280899, 0.75280899, 0.75421348,\n",
       "        0.75421348, 0.75561798, 0.75561798, 0.75702247, 0.75702247,\n",
       "        0.75842697, 0.75842697, 0.75983146, 0.75983146, 0.76404494,\n",
       "        0.76404494, 0.76544944, 0.76544944, 0.76825843, 0.76825843,\n",
       "        0.76966292, 0.76966292, 0.77247191, 0.77247191, 0.77247191,\n",
       "        0.77247191, 0.7738764 , 0.7738764 , 0.7738764 , 0.7752809 ,\n",
       "        0.7752809 , 0.7752809 , 0.77668539, 0.77668539, 0.77949438,\n",
       "        0.78089888, 0.78370787, 0.78370787, 0.78511236, 0.78511236,\n",
       "        0.78511236, 0.78511236, 0.78651685, 0.78932584, 0.78932584,\n",
       "        0.79073034, 0.79073034, 0.79213483, 0.79213483, 0.79213483,\n",
       "        0.79213483, 0.79353933, 0.79353933, 0.79494382, 0.79494382,\n",
       "        0.79634831, 0.79634831, 0.7991573 , 0.7991573 , 0.8005618 ,\n",
       "        0.8005618 , 0.80196629, 0.80196629, 0.80477528, 0.80477528,\n",
       "        0.80617978, 0.80617978, 0.80898876, 0.80898876, 0.81039326,\n",
       "        0.81039326, 0.81179775, 0.81179775, 0.81320225, 0.81320225,\n",
       "        0.81320225, 0.81460674, 0.81460674, 0.81601124, 0.81601124,\n",
       "        0.81882022, 0.81882022, 0.82022472, 0.82022472, 0.82162921,\n",
       "        0.82162921, 0.82303371, 0.82303371, 0.8258427 , 0.8258427 ,\n",
       "        0.82724719, 0.82724719, 0.82865169, 0.82865169, 0.83005618,\n",
       "        0.83005618, 0.83286517, 0.83286517, 0.83426966, 0.83426966,\n",
       "        0.83567416, 0.83567416, 0.84129213, 0.84129213, 0.84269663,\n",
       "        0.84269663, 0.84550562, 0.84550562, 0.84691011, 0.84691011,\n",
       "        0.84831461, 0.84831461, 0.8511236 , 0.8511236 , 0.8511236 ,\n",
       "        0.8511236 , 0.85252809, 0.85252809, 0.85393258, 0.85393258,\n",
       "        0.85393258, 0.85533708, 0.85533708, 0.85533708, 0.85533708,\n",
       "        0.85674157, 0.85674157, 0.85814607, 0.85814607, 0.85955056,\n",
       "        0.85955056, 0.85955056, 0.86095506, 0.86095506, 0.86235955,\n",
       "        0.86235955, 0.86376404, 0.86376404, 0.86516854, 0.86516854,\n",
       "        0.86797753, 0.86797753, 0.87078652, 0.87078652, 0.87219101,\n",
       "        0.87219101, 0.875     , 0.875     , 0.87780899, 0.87921348,\n",
       "        0.87921348, 0.88061798, 0.88061798, 0.88202247, 0.88202247,\n",
       "        0.88342697, 0.88342697, 0.88483146, 0.88483146, 0.88623596,\n",
       "        0.89185393, 0.89325843, 0.89325843, 0.89466292, 0.89466292,\n",
       "        0.89606742, 0.89606742, 0.89606742, 0.89747191, 0.89747191,\n",
       "        0.9002809 , 0.9002809 , 0.90168539, 0.90168539, 0.90308989,\n",
       "        0.90308989, 0.90449438, 0.90449438, 0.90589888, 0.90589888,\n",
       "        0.90730337, 0.90730337, 0.91011236, 0.91011236, 0.91151685,\n",
       "        0.91151685, 0.91292135, 0.91292135, 0.91432584, 0.91432584,\n",
       "        0.91573034, 0.91573034, 0.91713483, 0.91713483, 0.91994382,\n",
       "        0.91994382, 0.92275281, 0.92275281, 0.9241573 , 0.9241573 ,\n",
       "        0.9255618 , 0.9255618 , 0.9255618 , 0.92696629, 0.92696629,\n",
       "        0.92837079, 0.92837079, 0.92977528, 0.92977528, 0.93117978,\n",
       "        0.93117978, 0.93258427, 0.93258427, 0.93398876, 0.93398876,\n",
       "        0.93539326, 0.93539326, 0.93679775, 0.93679775, 0.93820225,\n",
       "        0.93820225, 0.94101124, 0.94101124, 0.94241573, 0.94522472,\n",
       "        0.94522472, 0.94662921, 0.94662921, 0.94803371, 0.94803371,\n",
       "        0.9494382 , 0.9494382 , 0.95224719, 0.95224719, 0.95365169,\n",
       "        0.95365169, 0.95505618, 0.95505618, 0.95786517, 0.95786517,\n",
       "        0.95926966, 0.95926966, 0.96067416, 0.96067416, 0.96067416,\n",
       "        0.96348315, 0.96348315, 0.96488764, 0.96488764, 0.96629213,\n",
       "        0.96629213, 0.96769663, 0.96769663, 0.96910112, 0.96910112,\n",
       "        0.97050562, 0.97050562, 0.97331461, 0.97331461, 0.97331461,\n",
       "        0.97331461, 0.9747191 , 0.9747191 , 0.9761236 , 0.9761236 ,\n",
       "        0.9761236 , 0.9761236 , 0.97752809, 0.97752809, 0.97893258,\n",
       "        0.97893258, 0.97893258, 0.98033708, 0.98033708, 0.98033708,\n",
       "        0.98033708, 0.98174157, 0.98174157, 0.98314607, 0.98314607,\n",
       "        0.98314607, 0.98314607, 0.98314607, 0.98314607, 0.98314607,\n",
       "        0.98314607, 0.98314607, 0.98455056, 0.98455056, 0.98455056,\n",
       "        0.98455056, 0.98595506, 0.98595506, 0.98735955, 0.98735955,\n",
       "        0.98735955, 0.98735955, 0.98735955, 0.98735955, 0.98876404,\n",
       "        0.98876404, 0.99016854, 0.99016854, 0.99016854, 0.99016854,\n",
       "        0.99157303, 0.99157303, 0.99297753, 0.99297753, 0.99297753,\n",
       "        0.99297753, 0.99297753, 0.99297753, 0.99578652, 0.99578652,\n",
       "        0.99719101, 0.99719101, 0.99719101, 0.99719101, 0.99719101,\n",
       "        0.99719101, 0.99719101, 0.99719101, 0.99719101, 0.99719101,\n",
       "        0.99859551, 0.99859551, 0.99859551, 0.99859551, 0.99859551,\n",
       "        0.99859551, 1.        , 1.        ]),\n",
       " array([1.8389135 , 0.8389135 , 0.75634111, 0.75566929, 0.75527893,\n",
       "        0.75503359, 0.75434241, 0.75390224, 0.74813136, 0.74468068,\n",
       "        0.73547931, 0.72884303, 0.72565255, 0.72397035, 0.72165492,\n",
       "        0.72065272, 0.7204146 , 0.717785  , 0.71753238, 0.71661459,\n",
       "        0.71631995, 0.7145113 , 0.71336851, 0.7131306 , 0.70610632,\n",
       "        0.70529363, 0.70496972, 0.70467197, 0.70311696, 0.70256625,\n",
       "        0.70245276, 0.70192789, 0.70025961, 0.69705596, 0.69105   ,\n",
       "        0.68826099, 0.68572663, 0.68561217, 0.68530559, 0.68392535,\n",
       "        0.68343543, 0.68313083, 0.68303412, 0.68247743, 0.68066046,\n",
       "        0.68015312, 0.67882589, 0.67814142, 0.67804395, 0.6779753 ,\n",
       "        0.67639878, 0.67566457, 0.67146354, 0.67128927, 0.67107348,\n",
       "        0.6707881 , 0.67034117, 0.66958629, 0.66873699, 0.6666027 ,\n",
       "        0.66594876, 0.66439232, 0.6614279 , 0.66064771, 0.6598812 ,\n",
       "        0.6596087 , 0.65801172, 0.65772742, 0.65720765, 0.65554531,\n",
       "        0.65506796, 0.649924  , 0.64766029, 0.64714666, 0.64691138,\n",
       "        0.64615511, 0.64600458, 0.6441809 , 0.64390944, 0.64353777,\n",
       "        0.64236171, 0.6419464 , 0.64064397, 0.63965078, 0.63870892,\n",
       "        0.63791205, 0.63587754, 0.63558708, 0.63558272, 0.63232334,\n",
       "        0.62861136, 0.62780027, 0.6265277 , 0.62557541, 0.62257736,\n",
       "        0.62199865, 0.62074605, 0.61982531, 0.61894597, 0.6182775 ,\n",
       "        0.61719007, 0.61690995, 0.61667226, 0.61552004, 0.61509358,\n",
       "        0.61406269, 0.61395728, 0.61335164, 0.61300979, 0.61300174,\n",
       "        0.61222456, 0.61216404, 0.61191162, 0.61125644, 0.6110234 ,\n",
       "        0.6100826 , 0.60784327, 0.60644723, 0.60605874, 0.60043167,\n",
       "        0.60035286, 0.59823816, 0.59645993, 0.59601998, 0.59578491,\n",
       "        0.59563976, 0.59551518, 0.59541396, 0.59191134, 0.59175054,\n",
       "        0.5916868 , 0.59122011, 0.59019658, 0.5898692 , 0.58923313,\n",
       "        0.58603615, 0.58596463, 0.58115986, 0.57163011, 0.57063756,\n",
       "        0.57019143, 0.56889895, 0.55992834, 0.55608847, 0.54753888,\n",
       "        0.54655639, 0.5444119 , 0.54356358, 0.53928665, 0.53917117,\n",
       "        0.5278858 , 0.52714375, 0.52633558, 0.52406818, 0.49938895,\n",
       "        0.49656797, 0.49385417, 0.4898557 , 0.4874566 , 0.48631563,\n",
       "        0.48613655, 0.48416056, 0.48325287, 0.47850152, 0.47842107,\n",
       "        0.47810178, 0.47558398, 0.47414707, 0.47354457, 0.47033949,\n",
       "        0.47013868, 0.46640257, 0.4655402 , 0.4648613 , 0.4627442 ,\n",
       "        0.46228585, 0.46218042, 0.46182677, 0.46043573, 0.45937298,\n",
       "        0.45896812, 0.45890496, 0.45691023, 0.45681249, 0.45677783,\n",
       "        0.45616426, 0.45474249, 0.45460296, 0.45453936, 0.45417137,\n",
       "        0.45404303, 0.45324252, 0.4531406 , 0.45270199, 0.45133116,\n",
       "        0.45080755, 0.45069717, 0.4496759 , 0.44949047, 0.44790515,\n",
       "        0.44614319, 0.44579134, 0.44510629, 0.44481963, 0.4446483 ,\n",
       "        0.44127132, 0.44123016, 0.44091017, 0.44060665, 0.43978997,\n",
       "        0.43920666, 0.43804587, 0.43771917, 0.43740459, 0.43721747,\n",
       "        0.43299609, 0.43284325, 0.43213467, 0.43210863, 0.43030411,\n",
       "        0.43014726, 0.42954796, 0.42674714, 0.42648256, 0.42624441,\n",
       "        0.42561145, 0.42531859, 0.42489084, 0.42482568, 0.4244899 ,\n",
       "        0.4239885 , 0.42174464, 0.4211082 , 0.41912959, 0.41845347,\n",
       "        0.41793221, 0.41681843, 0.41680523, 0.41586127, 0.41471366,\n",
       "        0.41445702, 0.41370929, 0.41365174, 0.41288485, 0.41263172,\n",
       "        0.4118533 , 0.40991596, 0.40966679, 0.40942621, 0.40855068,\n",
       "        0.40803673, 0.40788472, 0.40769627, 0.40672632, 0.40662969,\n",
       "        0.40621596, 0.40550749, 0.40471649, 0.40441479, 0.40400362,\n",
       "        0.40369947, 0.40251302, 0.40180049, 0.40146103, 0.40113302,\n",
       "        0.4004455 , 0.40024598, 0.39991412, 0.39935805, 0.39921343,\n",
       "        0.39874554, 0.39873015, 0.3966726 , 0.39650186, 0.39647146,\n",
       "        0.3962579 , 0.3960971 , 0.39419378, 0.39367739, 0.39240483,\n",
       "        0.39231489, 0.39102825, 0.39089465, 0.39052003, 0.39006756,\n",
       "        0.3894897 , 0.38938048, 0.38919335, 0.38908857, 0.38899305,\n",
       "        0.38798099, 0.38738762, 0.38718964, 0.38619372, 0.38582811,\n",
       "        0.385764  , 0.38548224, 0.38531417, 0.38481465, 0.38424886,\n",
       "        0.38376334, 0.38363151, 0.38309392, 0.38235148, 0.38179417,\n",
       "        0.38155216, 0.38146335, 0.38136299, 0.38069686, 0.38069554,\n",
       "        0.38056311, 0.38024813, 0.38023489, 0.37946649, 0.37837438,\n",
       "        0.37835895, 0.37785819, 0.37780499, 0.37735435, 0.37603719,\n",
       "        0.37590693, 0.37570228, 0.37545756, 0.37448395, 0.37433172,\n",
       "        0.37403096, 0.37255546, 0.37230237, 0.37222798, 0.37134673,\n",
       "        0.37109556, 0.36933575, 0.36834157, 0.3681635 , 0.36807643,\n",
       "        0.36791598, 0.36752148, 0.36747981, 0.36736546, 0.36725325,\n",
       "        0.3669481 , 0.36644912, 0.36629878, 0.36600837, 0.36583707,\n",
       "        0.36462229, 0.36353102, 0.3625104 , 0.36134946, 0.36120103,\n",
       "        0.36033659, 0.35977088, 0.35711392, 0.35698677, 0.35697788,\n",
       "        0.35640353, 0.35546854, 0.34955251, 0.34910085, 0.34881444,\n",
       "        0.34871518, 0.34854318, 0.34819882, 0.34705644, 0.34693502,\n",
       "        0.34628045, 0.34598176, 0.34588867, 0.34558557, 0.34534214,\n",
       "        0.34525962, 0.34477915, 0.34438909, 0.34433456, 0.3442994 ,\n",
       "        0.34423551, 0.34414813, 0.34303877, 0.34294682, 0.3424613 ,\n",
       "        0.33977411, 0.33928123, 0.33900991, 0.33847066, 0.33793373,\n",
       "        0.33755676, 0.33752237, 0.33644346, 0.33559387, 0.33548961,\n",
       "        0.33412445, 0.33412279, 0.33366081, 0.33138552, 0.33134439,\n",
       "        0.3309015 , 0.33061771, 0.32981324, 0.32938913, 0.32918068,\n",
       "        0.32861747, 0.32858724, 0.32770405, 0.32764975, 0.32682604,\n",
       "        0.32676163, 0.32621839, 0.32559695, 0.3252056 , 0.32490339,\n",
       "        0.32440968, 0.32396693, 0.3170286 , 0.31594528, 0.31503859,\n",
       "        0.31484359, 0.30733011, 0.30705188, 0.30549915, 0.3049567 ,\n",
       "        0.29962495, 0.29929518, 0.29925118, 0.29894665, 0.29681316,\n",
       "        0.29677144, 0.29209621, 0.29197785, 0.29121119, 0.29116195,\n",
       "        0.28804204, 0.28788935, 0.28377647, 0.28334183, 0.27931735,\n",
       "        0.27927994, 0.27818043, 0.27769846, 0.27546772, 0.27481013,\n",
       "        0.27466189, 0.2743571 , 0.27375544, 0.27346843, 0.27238412,\n",
       "        0.27235537, 0.27235199, 0.27223478, 0.2713618 , 0.27114192,\n",
       "        0.26740809, 0.26740773, 0.26551352, 0.26507857, 0.26332731,\n",
       "        0.26328668, 0.26301534, 0.26262192, 0.26040941, 0.26039687,\n",
       "        0.26016893, 0.2600151 , 0.25236572, 0.25191271, 0.25178231,\n",
       "        0.25166221, 0.24991848, 0.24980959, 0.2454425 , 0.24522456,\n",
       "        0.24481151, 0.24481053, 0.2414635 , 0.24140842, 0.23693266,\n",
       "        0.23656943, 0.23355566, 0.23335101, 0.23329899, 0.23287731,\n",
       "        0.23272503, 0.23144519, 0.23086531, 0.23048349, 0.23014023,\n",
       "        0.22976586, 0.22968322, 0.22954568, 0.22909953, 0.22413291,\n",
       "        0.224067  , 0.22015923, 0.21998222, 0.21574002, 0.21573453,\n",
       "        0.2154454 , 0.21434756, 0.21434032, 0.21431452, 0.21412427,\n",
       "        0.21392442, 0.21381607, 0.21276474, 0.21276376, 0.212668  ,\n",
       "        0.21229354, 0.21220593, 0.21178345, 0.21161166, 0.21160242,\n",
       "        0.21127986, 0.21100909, 0.21090747, 0.2068347 , 0.20675884,\n",
       "        0.20527868, 0.20526122, 0.20494466, 0.20463624, 0.2044811 ,\n",
       "        0.20442631, 0.20367215, 0.2036114 , 0.20326417, 0.20270888,\n",
       "        0.20056571, 0.20047491, 0.19893059, 0.19864509, 0.19837321,\n",
       "        0.19828506, 0.19792084, 0.19755175, 0.19731074, 0.19704094,\n",
       "        0.19659034, 0.19631052, 0.19575609, 0.1957498 , 0.19568802,\n",
       "        0.19561051, 0.19554237, 0.19508021, 0.19507377, 0.1948481 ,\n",
       "        0.19468992, 0.1946378 , 0.1939511 , 0.19390302, 0.19339472,\n",
       "        0.19326516, 0.19270303, 0.19242972, 0.19240077, 0.19193838,\n",
       "        0.19188562, 0.1917681 , 0.19167902, 0.1913939 , 0.19059603,\n",
       "        0.19029741, 0.18983159, 0.1888394 , 0.188711  , 0.18756237,\n",
       "        0.18731365, 0.18685122, 0.1866802 , 0.18582867, 0.18581809,\n",
       "        0.18566147, 0.18564457, 0.18312875, 0.18278509, 0.18109658,\n",
       "        0.18097829, 0.17879516, 0.1785759 , 0.17831352, 0.17823787,\n",
       "        0.17815666, 0.17796367, 0.17637916, 0.17631338, 0.17605629,\n",
       "        0.17581055, 0.175664  , 0.17488558, 0.17472495, 0.17396905,\n",
       "        0.1738627 , 0.17270288, 0.17268987, 0.1723676 , 0.17211909,\n",
       "        0.16830937, 0.16830192, 0.16778913, 0.1677266 , 0.16643503,\n",
       "        0.16640827, 0.16580685, 0.16580059, 0.16508201, 0.16505711,\n",
       "        0.16310914, 0.16300309, 0.16265486, 0.1624907 , 0.16137418,\n",
       "        0.16124856, 0.16076294, 0.16021512, 0.15999602, 0.15993792,\n",
       "        0.15898942, 0.15890514, 0.15784669, 0.15784124, 0.15684304,\n",
       "        0.15658009, 0.15585033, 0.15552607, 0.15435118, 0.15433255,\n",
       "        0.15381289, 0.15375725, 0.15354322, 0.15345119, 0.15319119,\n",
       "        0.15150104, 0.15146344, 0.15067478, 0.15046831, 0.15018976,\n",
       "        0.15011994, 0.14979767, 0.14975553, 0.14877222, 0.14861147,\n",
       "        0.14850129, 0.14829834, 0.14826685, 0.14772894, 0.14748892,\n",
       "        0.1460275 , 0.14594181, 0.1454233 , 0.14534661, 0.14458627,\n",
       "        0.14456911, 0.14372946, 0.14355465, 0.14118126, 0.14114283,\n",
       "        0.14073085, 0.14043453, 0.13878049, 0.13871496, 0.13846854,\n",
       "        0.13737274, 0.1373572 , 0.13610348, 0.13607219, 0.13557752,\n",
       "        0.13552755, 0.13521096, 0.13519804, 0.13437962, 0.13436155,\n",
       "        0.13394282, 0.13386923, 0.13377755, 0.13348554, 0.13288123,\n",
       "        0.13233122, 0.13222601, 0.13135986, 0.13135171, 0.1312059 ,\n",
       "        0.13110295, 0.13110187, 0.13100719, 0.12972662, 0.12958917,\n",
       "        0.12889653, 0.12886301, 0.12850662, 0.12828541, 0.12825041,\n",
       "        0.12819989, 0.12736011, 0.12731898, 0.12728695, 0.1272479 ,\n",
       "        0.12707653, 0.12701827, 0.12690677, 0.12681473, 0.12639809,\n",
       "        0.12615599, 0.12533041, 0.12530077, 0.12418347, 0.12392985,\n",
       "        0.12389181, 0.12360567, 0.1230915 , 0.12277748, 0.12253871,\n",
       "        0.12250491, 0.12248439, 0.12175686, 0.12159336, 0.12123895,\n",
       "        0.12118807, 0.12034021, 0.12028917, 0.12016626, 0.12009498,\n",
       "        0.11898307, 0.11897463, 0.11808523, 0.11804146, 0.11786195,\n",
       "        0.1178327 , 0.11731225, 0.11729375, 0.11703179, 0.11700716,\n",
       "        0.11594416, 0.115819  , 0.11571675, 0.11564482, 0.11546983,\n",
       "        0.11323616, 0.11318481, 0.11258543, 0.11256038, 0.11213243,\n",
       "        0.11192975, 0.11162248, 0.11150633, 0.11138805, 0.11132614,\n",
       "        0.11101988, 0.11073693, 0.10905186, 0.10869429, 0.10795005,\n",
       "        0.10790988, 0.10600167, 0.10597608, 0.10591055, 0.10224678,\n",
       "        0.10216631, 0.10139958, 0.10139263, 0.10075584, 0.10054391,\n",
       "        0.10031034, 0.1002674 , 0.10008181, 0.10007324, 0.09974052,\n",
       "        0.09961105, 0.09766121, 0.09762006, 0.09743212, 0.09727958,\n",
       "        0.0969479 , 0.09687051, 0.09618041, 0.09611697, 0.09378515,\n",
       "        0.09354785, 0.0917932 , 0.09166371, 0.091239  , 0.09114252,\n",
       "        0.09042655, 0.09027155, 0.09025288, 0.0884765 , 0.08844063,\n",
       "        0.0876602 , 0.08765909, 0.08553806, 0.08546449, 0.07777414,\n",
       "        0.07767324, 0.07588764, 0.07587622, 0.07577269, 0.07552383,\n",
       "        0.07206582, 0.07201686, 0.07176541, 0.07022436, 0.0699982 ,\n",
       "        0.0686456 , 0.06861903, 0.06763061, 0.06762151, 0.06448972,\n",
       "        0.06447833, 0.06442186, 0.06435535, 0.06188212, 0.06175996,\n",
       "        0.05970671, 0.05968639, 0.05636813, 0.05625409, 0.05147125,\n",
       "        0.05145142, 0.04397189, 0.04394737, 0.04159309, 0.04150166,\n",
       "        0.0414889 , 0.0414343 , 0.03936883, 0.03916026, 0.03655404,\n",
       "        0.0365538 , 0.03016489, 0.03014413, 0.02926364, 0.0292603 ,\n",
       "        0.0276216 , 0.02751236, 0.02238951, 0.0223555 , 0.02173648,\n",
       "        0.02144184, 0.01903269, 0.01892316, 0.01378834, 0.01350995,\n",
       "        0.00980868, 0.0095633 , 0.00420428]))"
      ]
     },
     "execution_count": 32,
     "metadata": {},
     "output_type": "execute_result"
    }
   ],
   "source": [
    "fpr, tpr, thresholds"
   ]
  },
  {
   "cell_type": "code",
   "execution_count": 33,
   "metadata": {},
   "outputs": [],
   "source": [
    "rfc_roc_auc = roc_auc_score(y_test, rfc.predict(x_test))#roc curve using random forest\n",
    "rfc_fpr, rfc_tpr, rfc_thresholds = roc_curve(y_test, rfc.predict_proba(x_test)[:,1])"
   ]
  },
  {
   "cell_type": "code",
   "execution_count": 34,
   "metadata": {},
   "outputs": [
    {
     "data": {
      "text/plain": [
       "(array([0.00000000e+00, 0.00000000e+00, 0.00000000e+00, 4.37062937e-04,\n",
       "        4.37062937e-04, 4.37062937e-04, 8.74125874e-04, 8.74125874e-04,\n",
       "        8.74125874e-04, 8.74125874e-04, 8.74125874e-04, 8.74125874e-04,\n",
       "        8.74125874e-04, 8.74125874e-04, 8.74125874e-04, 8.74125874e-04,\n",
       "        8.74125874e-04, 8.74125874e-04, 8.74125874e-04, 8.74125874e-04,\n",
       "        8.74125874e-04, 8.74125874e-04, 8.74125874e-04, 8.74125874e-04,\n",
       "        8.74125874e-04, 8.74125874e-04, 1.74825175e-03, 2.62237762e-03,\n",
       "        3.49650350e-03, 4.80769231e-03, 6.11888112e-03, 6.55594406e-03,\n",
       "        7.43006993e-03, 7.86713287e-03, 1.44230769e-02, 1.74825175e-02,\n",
       "        1.79195804e-02, 1.96678322e-02, 2.31643357e-02, 2.57867133e-02,\n",
       "        3.45279720e-02, 3.88986014e-02, 5.11363636e-02, 5.72552448e-02,\n",
       "        6.68706294e-02, 8.08566434e-02, 9.92132867e-02, 1.12762238e-01,\n",
       "        1.34178322e-01, 1.73951049e-01, 2.21590909e-01, 3.05944056e-01,\n",
       "        4.51486014e-01, 1.00000000e+00]),\n",
       " array([0.        , 0.73174157, 0.79775281, 0.82865169, 0.8497191 ,\n",
       "        0.86657303, 0.87921348, 0.88764045, 0.89325843, 0.89747191,\n",
       "        0.90308989, 0.90730337, 0.91853933, 0.9241573 , 0.92837079,\n",
       "        0.93679775, 0.93960674, 0.94241573, 0.94382022, 0.95224719,\n",
       "        0.95786517, 0.95926966, 0.96348315, 0.96488764, 0.97050562,\n",
       "        0.97191011, 0.97191011, 0.97191011, 0.97191011, 0.97191011,\n",
       "        0.97191011, 0.97331461, 0.97331461, 0.97331461, 0.97331461,\n",
       "        0.97331461, 0.97752809, 0.97752809, 0.97893258, 0.97893258,\n",
       "        0.97893258, 0.98314607, 0.98455056, 0.98735955, 0.98876404,\n",
       "        0.98876404, 0.98876404, 0.98876404, 0.99157303, 0.99297753,\n",
       "        0.99438202, 0.99438202, 0.99719101, 1.        ]),\n",
       " array([2.  , 1.  , 0.99, 0.98, 0.97, 0.96, 0.95, 0.93, 0.92, 0.91, 0.89,\n",
       "        0.88, 0.86, 0.84, 0.81, 0.77, 0.75, 0.74, 0.7 , 0.69, 0.65, 0.64,\n",
       "        0.63, 0.62, 0.57, 0.44, 0.38, 0.37, 0.33, 0.3 , 0.27, 0.25, 0.24,\n",
       "        0.23, 0.2 , 0.19, 0.18, 0.17, 0.16, 0.15, 0.13, 0.12, 0.11, 0.1 ,\n",
       "        0.09, 0.08, 0.07, 0.06, 0.05, 0.04, 0.03, 0.02, 0.01, 0.  ]))"
      ]
     },
     "execution_count": 34,
     "metadata": {},
     "output_type": "execute_result"
    }
   ],
   "source": [
    "rfc_fpr, rfc_tpr, rfc_thresholds"
   ]
  },
  {
   "cell_type": "code",
   "execution_count": 35,
   "metadata": {},
   "outputs": [
    {
     "data": {
      "image/png": "[encoded data removed]",
      "text/plain": [
       "<Figure size 432x288 with 1 Axes>"
      ]
     },
     "metadata": {
      "needs_background": "light"
     },
     "output_type": "display_data"
    }
   ],
   "source": [
    "plt.figure()\n",
    "plt.plot(fpr, tpr, label='Logistic Regression (area = %0.2f)' % lr_roc_auc)\n",
    "plt.plot(rfc_fpr, rfc_tpr, label='Random Forest (area = %0.2f)' % rfc_roc_auc)\n",
    "plt.plot([0, 1], [0, 1],'r--')\n",
    "plt.xlim([0.0, 1.0])\n",
    "plt.ylim([0.0, 1.05])\n",
    "plt.xlabel('False Positive Rate')\n",
    "plt.ylabel('True Positive Rate')\n",
    "plt.title('Receiver operating characteristic')\n",
    "plt.legend(loc=\"lower right\")\n",
    "plt.show()"
   ]
  },
  {
   "cell_type": "code",
   "execution_count": 36,
   "metadata": {},
   "outputs": [
    {
     "data": {
      "text/plain": [
       "array([0.35006498, 0.11881249, 0.17453032, 0.14198206, 0.18903103,\n",
       "       0.00608221, 0.0010003 , 0.00992789, 0.00856873])"
      ]
     },
     "execution_count": 36,
     "metadata": {},
     "output_type": "execute_result"
    }
   ],
   "source": [
    "rfc.feature_importances_"
   ]
  },
  {
   "cell_type": "code",
   "execution_count": 37,
   "metadata": {},
   "outputs": [
    {
     "data": {
      "text/html": [
       "<div>\n",
       "<style scoped>\n",
       "    .dataframe tbody tr th:only-of-type {\n",
       "        vertical-align: middle;\n",
       "    }\n",
       "\n",
       "    .dataframe tbody tr th {\n",
       "        vertical-align: top;\n",
       "    }\n",
       "\n",
       "    .dataframe thead th {\n",
       "        text-align: right;\n",
       "    }\n",
       "</style>\n",
       "<table border=\"1\" class=\"dataframe\">\n",
       "  <thead>\n",
       "    <tr style=\"text-align: right;\">\n",
       "      <th></th>\n",
       "      <th>Features</th>\n",
       "      <th>Feature_importance_Score</th>\n",
       "    </tr>\n",
       "  </thead>\n",
       "  <tbody>\n",
       "    <tr>\n",
       "      <th>0</th>\n",
       "      <td>satisfaction_level</td>\n",
       "      <td>0.350065</td>\n",
       "    </tr>\n",
       "    <tr>\n",
       "      <th>1</th>\n",
       "      <td>time_spend_company</td>\n",
       "      <td>0.189031</td>\n",
       "    </tr>\n",
       "    <tr>\n",
       "      <th>2</th>\n",
       "      <td>number_project</td>\n",
       "      <td>0.174530</td>\n",
       "    </tr>\n",
       "    <tr>\n",
       "      <th>3</th>\n",
       "      <td>average_montly_hours</td>\n",
       "      <td>0.141982</td>\n",
       "    </tr>\n",
       "    <tr>\n",
       "      <th>4</th>\n",
       "      <td>last_evaluation</td>\n",
       "      <td>0.118812</td>\n",
       "    </tr>\n",
       "    <tr>\n",
       "      <th>5</th>\n",
       "      <td>department</td>\n",
       "      <td>0.009928</td>\n",
       "    </tr>\n",
       "    <tr>\n",
       "      <th>6</th>\n",
       "      <td>salary</td>\n",
       "      <td>0.008569</td>\n",
       "    </tr>\n",
       "    <tr>\n",
       "      <th>7</th>\n",
       "      <td>Work_accident</td>\n",
       "      <td>0.006082</td>\n",
       "    </tr>\n",
       "    <tr>\n",
       "      <th>8</th>\n",
       "      <td>promotion_last_5years</td>\n",
       "      <td>0.001000</td>\n",
       "    </tr>\n",
       "  </tbody>\n",
       "</table>\n",
       "</div>"
      ],
      "text/plain": [
       "                Features  Feature_importance_Score\n",
       "0     satisfaction_level                  0.350065\n",
       "1     time_spend_company                  0.189031\n",
       "2         number_project                  0.174530\n",
       "3   average_montly_hours                  0.141982\n",
       "4        last_evaluation                  0.118812\n",
       "5             department                  0.009928\n",
       "6                 salary                  0.008569\n",
       "7          Work_accident                  0.006082\n",
       "8  promotion_last_5years                  0.001000"
      ]
     },
     "execution_count": 37,
     "metadata": {},
     "output_type": "execute_result"
    }
   ],
   "source": [
    "df1=pd.DataFrame({'Features': x_train.columns, 'Feature_importance_Score': rfc.feature_importances_}).sort_values(by = ['Feature_importance_Score'],ascending = False,ignore_index  = True)\n",
    "df1.head(10)"
   ]
  },
  {
   "cell_type": "code",
   "execution_count": 38,
   "metadata": {},
   "outputs": [
    {
     "data": {
      "image/png": "[encoded data removed]",
      "text/plain": [
       "<Figure size 432x288 with 1 Axes>"
      ]
     },
     "metadata": {
      "needs_background": "light"
     },
     "output_type": "display_data"
    }
   ],
   "source": [
    "fig,ax = plt.subplots()\n",
    "plt.barh('Features', 'Feature_importance_Score',data=df1)\n",
    "plt.xlabel(\"Feature_importances\", size=13)\n",
    "plt.ylabel(\"Features\", size=13)\n",
    "plt.xticks(rotation=90)\n",
    "ax.invert_yaxis()\n",
    "fig.tight_layout()\n",
    "plt.title(\"Horizontal Bar plot in Ascending Order for feature_importances\", size=16)\n",
    "plt.show()"
   ]
  },
  {
   "cell_type": "markdown",
   "metadata": {},
   "source": [
    "### As we can see from the above data and bar chart that \"satisfaction_level\",\"time_spend_company\" and \"number_project\" are the most impotant features while predicting our target variable \"left\"\n"
   ]
  },
  {
   "cell_type": "code",
   "execution_count": null,
   "metadata": {},
   "outputs": [],
   "source": []
  }
 ],
 "metadata": {
  "kernelspec": {
   "display_name": "Python 3",
   "language": "python",
   "name": "python3"
  },
  "language_info": {
   "codemirror_mode": {
    "name": "ipython",
    "version": 3
   },
   "file_extension": ".py",
   "mimetype": "text/x-python",
   "name": "python",
   "nbconvert_exporter": "python",
   "pygments_lexer": "ipython3",
   "version": "3.8.3"
  }
 },
 "nbformat": 4,
 "nbformat_minor": 4
}
